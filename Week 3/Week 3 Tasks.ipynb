{
 "cells": [
  {
   "cell_type": "code",
   "execution_count": 1,
   "id": "eab71c36",
   "metadata": {},
   "outputs": [
    {
     "data": {
      "text/plain": [
       "True"
      ]
     },
     "execution_count": 1,
     "metadata": {},
     "output_type": "execute_result"
    }
   ],
   "source": [
    "10 < 100"
   ]
  },
  {
   "cell_type": "code",
   "execution_count": 2,
   "id": "dc6a029c",
   "metadata": {},
   "outputs": [
    {
     "data": {
      "text/plain": [
       "False"
      ]
     },
     "execution_count": 2,
     "metadata": {},
     "output_type": "execute_result"
    }
   ],
   "source": [
    "100 != 100"
   ]
  },
  {
   "cell_type": "code",
   "execution_count": 3,
   "id": "28e237b9",
   "metadata": {},
   "outputs": [
    {
     "data": {
      "text/plain": [
       "True"
      ]
     },
     "execution_count": 3,
     "metadata": {},
     "output_type": "execute_result"
    }
   ],
   "source": [
    "50 >= 50"
   ]
  },
  {
   "cell_type": "code",
   "execution_count": 4,
   "id": "3d41178f",
   "metadata": {},
   "outputs": [
    {
     "name": "stdout",
     "output_type": "stream",
     "text": [
      "Your Age: 21\n"
     ]
    }
   ],
   "source": [
    "age = int(input(\"Your Age: \"))"
   ]
  },
  {
   "cell_type": "code",
   "execution_count": 5,
   "id": "e3d95084",
   "metadata": {},
   "outputs": [
    {
     "data": {
      "text/plain": [
       "True"
      ]
     },
     "execution_count": 5,
     "metadata": {},
     "output_type": "execute_result"
    }
   ],
   "source": [
    "age > 18"
   ]
  },
  {
   "cell_type": "code",
   "execution_count": 6,
   "id": "b6823704",
   "metadata": {},
   "outputs": [
    {
     "data": {
      "text/plain": [
       "True"
      ]
     },
     "execution_count": 6,
     "metadata": {},
     "output_type": "execute_result"
    }
   ],
   "source": [
    "age == 21"
   ]
  },
  {
   "cell_type": "code",
   "execution_count": 7,
   "id": "a709e49e",
   "metadata": {},
   "outputs": [
    {
     "data": {
      "text/plain": [
       "True"
      ]
     },
     "execution_count": 7,
     "metadata": {},
     "output_type": "execute_result"
    }
   ],
   "source": [
    "age < 31"
   ]
  },
  {
   "cell_type": "code",
   "execution_count": 8,
   "id": "74706017",
   "metadata": {},
   "outputs": [
    {
     "data": {
      "text/plain": [
       "True"
      ]
     },
     "execution_count": 8,
     "metadata": {},
     "output_type": "execute_result"
    }
   ],
   "source": [
    "\"a\" < \"b\""
   ]
  },
  {
   "cell_type": "code",
   "execution_count": 9,
   "id": "af2ff6cf",
   "metadata": {},
   "outputs": [
    {
     "data": {
      "text/plain": [
       "False"
      ]
     },
     "execution_count": 9,
     "metadata": {},
     "output_type": "execute_result"
    }
   ],
   "source": [
    "\"b\" < \"a\""
   ]
  },
  {
   "cell_type": "code",
   "execution_count": 10,
   "id": "87be76d3",
   "metadata": {},
   "outputs": [
    {
     "data": {
      "text/plain": [
       "True"
      ]
     },
     "execution_count": 10,
     "metadata": {},
     "output_type": "execute_result"
    }
   ],
   "source": [
    "\"John\" < \"Terry\""
   ]
  },
  {
   "cell_type": "code",
   "execution_count": 11,
   "id": "c9d657ec",
   "metadata": {},
   "outputs": [
    {
     "data": {
      "text/plain": [
       "True"
      ]
     },
     "execution_count": 11,
     "metadata": {},
     "output_type": "execute_result"
    }
   ],
   "source": [
    "5 < 10.2"
   ]
  },
  {
   "cell_type": "code",
   "execution_count": 12,
   "id": "63f6cae5",
   "metadata": {},
   "outputs": [
    {
     "ename": "TypeError",
     "evalue": "'<' not supported between instances of 'int' and 'str'",
     "output_type": "error",
     "traceback": [
      "\u001b[0;31m---------------------------------------------------------------------------\u001b[0m",
      "\u001b[0;31mTypeError\u001b[0m                                 Traceback (most recent call last)",
      "\u001b[0;32m/tmp/ipykernel_8746/56344552.py\u001b[0m in \u001b[0;36m<module>\u001b[0;34m\u001b[0m\n\u001b[0;32m----> 1\u001b[0;31m \u001b[0;36m5\u001b[0m \u001b[0;34m<\u001b[0m \u001b[0;34m\"Monty\"\u001b[0m\u001b[0;34m\u001b[0m\u001b[0;34m\u001b[0m\u001b[0m\n\u001b[0m",
      "\u001b[0;31mTypeError\u001b[0m: '<' not supported between instances of 'int' and 'str'"
     ]
    }
   ],
   "source": [
    "5 < \"Monty\""
   ]
  },
  {
   "cell_type": "code",
   "execution_count": 13,
   "id": "d2d69b93",
   "metadata": {},
   "outputs": [
    {
     "ename": "TypeError",
     "evalue": "'<' not supported between instances of 'int' and 'str'",
     "output_type": "error",
     "traceback": [
      "\u001b[0;31m---------------------------------------------------------------------------\u001b[0m",
      "\u001b[0;31mTypeError\u001b[0m                                 Traceback (most recent call last)",
      "\u001b[0;32m/tmp/ipykernel_8746/738511462.py\u001b[0m in \u001b[0;36m<module>\u001b[0;34m\u001b[0m\n\u001b[0;32m----> 1\u001b[0;31m \u001b[0;36m5\u001b[0m \u001b[0;34m<\u001b[0m \u001b[0;34m\"5\"\u001b[0m\u001b[0;34m\u001b[0m\u001b[0;34m\u001b[0m\u001b[0m\n\u001b[0m",
      "\u001b[0;31mTypeError\u001b[0m: '<' not supported between instances of 'int' and 'str'"
     ]
    }
   ],
   "source": [
    "5 < \"5\""
   ]
  },
  {
   "cell_type": "code",
   "execution_count": 14,
   "id": "63b03684",
   "metadata": {},
   "outputs": [
    {
     "data": {
      "text/plain": [
       "False"
      ]
     },
     "execution_count": 14,
     "metadata": {},
     "output_type": "execute_result"
    }
   ],
   "source": [
    "age = 30\n",
    "\n",
    "age >=18 and age <=65\n",
    "age <18 or age >65\n",
    "not age > 18"
   ]
  },
  {
   "cell_type": "code",
   "execution_count": 15,
   "id": "dd112645",
   "metadata": {},
   "outputs": [
    {
     "data": {
      "text/plain": [
       "False"
      ]
     },
     "execution_count": 15,
     "metadata": {},
     "output_type": "execute_result"
    }
   ],
   "source": [
    "age = 30\n",
    "\n",
    "(age >=18 and age <=65) and (not age==30)"
   ]
  },
  {
   "cell_type": "code",
   "execution_count": 20,
   "id": "722544a9",
   "metadata": {},
   "outputs": [
    {
     "name": "stdout",
     "output_type": "stream",
     "text": [
      "Your Age20\n",
      "Valid\n"
     ]
    }
   ],
   "source": [
    "age = int(input(\"Your Age\"))\n",
    "print(\"Valid\" if age > 18 and age < 30 else \"Not Valid\")"
   ]
  },
  {
   "cell_type": "code",
   "execution_count": 21,
   "id": "f8c14a2b",
   "metadata": {},
   "outputs": [
    {
     "name": "stdout",
     "output_type": "stream",
     "text": [
      "Valid\n"
     ]
    }
   ],
   "source": [
    "if age > 18:\n",
    "    print(\"Valid\")\n",
    "elif age < 30:\n",
    "    print(\"Valid\")\n",
    "else:\n",
    "    print(\"Not Valid\")"
   ]
  },
  {
   "cell_type": "code",
   "execution_count": 22,
   "id": "a2f4c7a4",
   "metadata": {},
   "outputs": [
    {
     "data": {
      "text/plain": [
       "'you are an adult'"
      ]
     },
     "execution_count": 22,
     "metadata": {},
     "output_type": "execute_result"
    }
   ],
   "source": [
    "\"you are an adult\" if age >= 18 else \"you are not an adult, yet!\""
   ]
  },
  {
   "cell_type": "code",
   "execution_count": 25,
   "id": "5bb36484",
   "metadata": {},
   "outputs": [
    {
     "name": "stdout",
     "output_type": "stream",
     "text": [
      "2\n",
      "False\n"
     ]
    }
   ],
   "source": [
    "total = int(input())\n",
    "if total != 0:\n",
    "    print(False)\n",
    "else:\n",
    "    print(True)"
   ]
  },
  {
   "cell_type": "code",
   "execution_count": 36,
   "id": "39cb1d60",
   "metadata": {},
   "outputs": [
    {
     "name": "stdout",
     "output_type": "stream",
     "text": [
      "2 to the power of 2 = 4\n",
      "4 to the power of 4 = 256\n",
      "6 to the power of 6 = 46656\n",
      "8 to the power of 8 = 16777216\n",
      "10 to the power of 10 = 10000000000\n"
     ]
    }
   ],
   "source": [
    "for i in range(2,12,2):\n",
    "    print(i, \"to the power of\", i, \"=\" ,i**i)"
   ]
  },
  {
   "cell_type": "code",
   "execution_count": 37,
   "id": "b953e661",
   "metadata": {},
   "outputs": [
    {
     "name": "stdout",
     "output_type": "stream",
     "text": [
      "10\n",
      "20\n",
      "30\n",
      "90\n",
      "200\n",
      "30\n",
      "22\n",
      "11\n"
     ]
    }
   ],
   "source": [
    "numbers = [10, 20 , 30, 90, 200, 30, 22, 11]\n",
    "for i in numbers:\n",
    "    print(i)"
   ]
  },
  {
   "cell_type": "code",
   "execution_count": 38,
   "id": "13b2ed35",
   "metadata": {},
   "outputs": [
    {
     "name": "stdout",
     "output_type": "stream",
     "text": [
      "10\n",
      "20\n",
      "30\n",
      "90\n"
     ]
    }
   ],
   "source": [
    "numbers = [10, 20 , 30, 90, 200, 30, 22, 11]\n",
    "for i in numbers:\n",
    "    if i>100:\n",
    "        break\n",
    "    else:\n",
    "        print(i)"
   ]
  },
  {
   "cell_type": "code",
   "execution_count": 1,
   "id": "c0bd334a",
   "metadata": {},
   "outputs": [
    {
     "name": "stdout",
     "output_type": "stream",
     "text": [
      "all numbers processed 10\n",
      "all numbers processed 20\n",
      "all numbers processed 30\n",
      "all numbers processed 90\n",
      "all numbers processed 30\n",
      "all numbers processed 22\n",
      "all numbers processed 11\n"
     ]
    }
   ],
   "source": [
    "numbers = [10, 20 , 30, 90, 200, 30, 22, 11]\n",
    "for i in numbers:\n",
    "    if i<=100:\n",
    "        print(\"all numbers processed\",i)\n",
    "    else:\n",
    "        continue"
   ]
  },
  {
   "cell_type": "code",
   "execution_count": null,
   "id": "f1e26fe4",
   "metadata": {},
   "outputs": [],
   "source": [
    "#Boolean Expression = Which express either True or False or the result\n",
    "#of the program\n",
    "#Relational Operation = Shows the relation between operands <, >, == \n",
    "#and so on \n",
    "#Logical operator = result the logic between operands\n",
    "#operator chaining = chain between operators for the operands\n",
    "#Ternary Operators = 2,3 lines of if else code in single line\n",
    "#Iteration = looping the thing\n",
    "#Nested Loop = loop inside loop"
   ]
  }
 ],
 "metadata": {
  "kernelspec": {
   "display_name": "Python 3 (ipykernel)",
   "language": "python",
   "name": "python3"
  },
  "language_info": {
   "codemirror_mode": {
    "name": "ipython",
    "version": 3
   },
   "file_extension": ".py",
   "mimetype": "text/x-python",
   "name": "python",
   "nbconvert_exporter": "python",
   "pygments_lexer": "ipython3",
   "version": "3.10.6"
  }
 },
 "nbformat": 4,
 "nbformat_minor": 5
}
